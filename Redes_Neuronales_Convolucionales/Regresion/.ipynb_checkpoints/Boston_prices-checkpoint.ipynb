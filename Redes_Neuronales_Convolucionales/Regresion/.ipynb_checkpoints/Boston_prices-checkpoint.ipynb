{
 "cells": [
  {
   "cell_type": "code",
   "execution_count": 1,
   "metadata": {},
   "outputs": [
    {
     "name": "stderr",
     "output_type": "stream",
     "text": [
      "Using TensorFlow backend.\n"
     ]
    }
   ],
   "source": [
    "import tensorflow as tf\n",
    "import numpy as np\n",
    "import keras\n",
    "from keras.datasets import cifar10\n",
    "from keras.models import Sequential,Model\n",
    "from keras.layers import Dense,Dropout,Flatten,Conv2D,MaxPooling2D,Input\n",
    "from keras import backend as K\n",
    "from keras.callbacks import TensorBoard\n",
    "from keras.optimizers import SGD,Adam\n",
    "from keras.applications import VGG16\n",
    "import matplotlib.pylab as plt"
   ]
  },
  {
   "cell_type": "markdown",
   "metadata": {},
   "source": [
    "### Liberar Memoria GPU"
   ]
  },
  {
   "cell_type": "code",
   "execution_count": 2,
   "metadata": {},
   "outputs": [],
   "source": [
    "cfg = K.tf.ConfigProto()\n",
    "cfg.gpu_options.allow_growth = True\n",
    "K.set_session(K.tf.Session(config=cfg))"
   ]
  },
  {
   "cell_type": "markdown",
   "metadata": {},
   "source": [
    "### Preparación del Modelo"
   ]
  },
  {
   "cell_type": "code",
   "execution_count": 3,
   "metadata": {},
   "outputs": [],
   "source": [
    "batch_size = 10\n",
    "epochs = 50"
   ]
  },
  {
   "cell_type": "code",
   "execution_count": 4,
   "metadata": {},
   "outputs": [],
   "source": [
    "from keras.datasets import boston_housing"
   ]
  },
  {
   "cell_type": "code",
   "execution_count": 5,
   "metadata": {},
   "outputs": [
    {
     "name": "stdout",
     "output_type": "stream",
     "text": [
      "Downloading data from https://s3.amazonaws.com/keras-datasets/boston_housing.npz\n",
      "57344/57026 [==============================] - 0s 2us/step\n",
      "13\n"
     ]
    }
   ],
   "source": [
    "(xt, yt), (xtest, ytest) = boston_housing.load_data()\n",
    "\n",
    "# Normalización estándar\n",
    "mean = xt.mean(axis=0)\n",
    "xt -= mean\n",
    "\n",
    "std = xt.std(axis=0)\n",
    "xt /= std\n",
    "\n",
    "print(xt.shape[1])\n",
    "\n",
    "xtest -= mean\n",
    "xtest /= std\n",
    "\n",
    "# Otra forma de normalizar, en este caso sacamos el precio máximo\n",
    "maximo = np.max(yt)\n",
    "yt = yt / (maximo)\n",
    "ytest = ytest / maximo"
   ]
  },
  {
   "cell_type": "markdown",
   "metadata": {},
   "source": [
    "### Capas del Modelo"
   ]
  },
  {
   "cell_type": "code",
   "execution_count": 6,
   "metadata": {},
   "outputs": [
    {
     "name": "stdout",
     "output_type": "stream",
     "text": [
      "WARNING:tensorflow:From C:\\Users\\Asus\\AppData\\Roaming\\Python\\Python37\\site-packages\\tensorflow\\python\\framework\\op_def_library.py:263: colocate_with (from tensorflow.python.framework.ops) is deprecated and will be removed in a future version.\n",
      "Instructions for updating:\n",
      "Colocations handled automatically by placer.\n"
     ]
    }
   ],
   "source": [
    "Entradas = Input(shape=(13,))\n",
    "x = Dense(64, activation='relu')(Entradas)\n",
    "x = Dense(64, activation='relu')(x)\n",
    "x = Dense(1, activation='linear')(x)"
   ]
  },
  {
   "cell_type": "markdown",
   "metadata": {},
   "source": [
    "### Creación del Modelo"
   ]
  },
  {
   "cell_type": "code",
   "execution_count": 7,
   "metadata": {},
   "outputs": [
    {
     "name": "stdout",
     "output_type": "stream",
     "text": [
      "_________________________________________________________________\n",
      "Layer (type)                 Output Shape              Param #   \n",
      "=================================================================\n",
      "input_1 (InputLayer)         (None, 13)                0         \n",
      "_________________________________________________________________\n",
      "dense_1 (Dense)              (None, 64)                896       \n",
      "_________________________________________________________________\n",
      "dense_2 (Dense)              (None, 64)                4160      \n",
      "_________________________________________________________________\n",
      "dense_3 (Dense)              (None, 1)                 65        \n",
      "=================================================================\n",
      "Total params: 5,121\n",
      "Trainable params: 5,121\n",
      "Non-trainable params: 0\n",
      "_________________________________________________________________\n"
     ]
    }
   ],
   "source": [
    "modelo = Model(inputs=Entradas, outputs=x)\n",
    "modelo.summary()"
   ]
  },
  {
   "cell_type": "markdown",
   "metadata": {},
   "source": [
    "### Compilación y Entrenamiento"
   ]
  },
  {
   "cell_type": "code",
   "execution_count": 8,
   "metadata": {},
   "outputs": [],
   "source": [
    "Adam = Adam(lr=0.001,beta_1=0.9,beta_2=0.9)#SGD(lr=0.001, decay=1e-6, momentum=0.9, nesterov=True)\n",
    "\n",
    "# Al ser un problema de Regresión Lineal: utilizamos el Error Cuadrático Medio (MSE) como función de pérdidas\n",
    "modelo.compile(loss=keras.losses.mse, optimizer=Adam, metrics=['mse'])"
   ]
  },
  {
   "cell_type": "code",
   "execution_count": 9,
   "metadata": {},
   "outputs": [
    {
     "name": "stdout",
     "output_type": "stream",
     "text": [
      "WARNING:tensorflow:From C:\\Users\\Asus\\AppData\\Roaming\\Python\\Python37\\site-packages\\tensorflow\\python\\ops\\math_ops.py:3066: to_int32 (from tensorflow.python.ops.math_ops) is deprecated and will be removed in a future version.\n",
      "Instructions for updating:\n",
      "Use tf.cast instead.\n",
      "Train on 404 samples, validate on 102 samples\n",
      "Epoch 1/50\n",
      "404/404 [==============================] - 1s 1ms/step - loss: 0.0746 - mean_squared_error: 0.0746 - val_loss: 0.0273 - val_mean_squared_error: 0.0273\n",
      "Epoch 2/50\n",
      "404/404 [==============================] - 0s 252us/step - loss: 0.0156 - mean_squared_error: 0.0156 - val_loss: 0.0163 - val_mean_squared_error: 0.0163\n",
      "Epoch 3/50\n",
      "404/404 [==============================] - 0s 255us/step - loss: 0.0095 - mean_squared_error: 0.0095 - val_loss: 0.0114 - val_mean_squared_error: 0.0114\n",
      "Epoch 4/50\n",
      "404/404 [==============================] - 0s 255us/step - loss: 0.0067 - mean_squared_error: 0.0067 - val_loss: 0.0110 - val_mean_squared_error: 0.0110\n",
      "Epoch 5/50\n",
      "404/404 [==============================] - 0s 255us/step - loss: 0.0054 - mean_squared_error: 0.0054 - val_loss: 0.0087 - val_mean_squared_error: 0.0087\n",
      "Epoch 6/50\n",
      "404/404 [==============================] - 0s 255us/step - loss: 0.0044 - mean_squared_error: 0.0044 - val_loss: 0.0106 - val_mean_squared_error: 0.0106\n",
      "Epoch 7/50\n",
      "404/404 [==============================] - 0s 252us/step - loss: 0.0043 - mean_squared_error: 0.0043 - val_loss: 0.0078 - val_mean_squared_error: 0.0078\n",
      "Epoch 8/50\n",
      "404/404 [==============================] - 0s 250us/step - loss: 0.0039 - mean_squared_error: 0.0039 - val_loss: 0.0095 - val_mean_squared_error: 0.0095\n",
      "Epoch 9/50\n",
      "404/404 [==============================] - 0s 255us/step - loss: 0.0038 - mean_squared_error: 0.0038 - val_loss: 0.0089 - val_mean_squared_error: 0.0089\n",
      "Epoch 10/50\n",
      "404/404 [==============================] - 0s 255us/step - loss: 0.0040 - mean_squared_error: 0.0040 - val_loss: 0.0085 - val_mean_squared_error: 0.0085\n",
      "Epoch 11/50\n",
      "404/404 [==============================] - 0s 255us/step - loss: 0.0039 - mean_squared_error: 0.0039 - val_loss: 0.0078 - val_mean_squared_error: 0.0078\n",
      "Epoch 12/50\n",
      "404/404 [==============================] - 0s 256us/step - loss: 0.0030 - mean_squared_error: 0.0030 - val_loss: 0.0068 - val_mean_squared_error: 0.0068\n",
      "Epoch 13/50\n",
      "404/404 [==============================] - 0s 252us/step - loss: 0.0031 - mean_squared_error: 0.0031 - val_loss: 0.0061 - val_mean_squared_error: 0.0061\n",
      "Epoch 14/50\n",
      "404/404 [==============================] - 0s 250us/step - loss: 0.0028 - mean_squared_error: 0.0028 - val_loss: 0.0058 - val_mean_squared_error: 0.0058\n",
      "Epoch 15/50\n",
      "404/404 [==============================] - 0s 255us/step - loss: 0.0027 - mean_squared_error: 0.0027 - val_loss: 0.0058 - val_mean_squared_error: 0.0058\n",
      "Epoch 16/50\n",
      "404/404 [==============================] - 0s 252us/step - loss: 0.0027 - mean_squared_error: 0.0027 - val_loss: 0.0059 - val_mean_squared_error: 0.0059\n",
      "Epoch 17/50\n",
      "404/404 [==============================] - 0s 260us/step - loss: 0.0025 - mean_squared_error: 0.0025 - val_loss: 0.0061 - val_mean_squared_error: 0.0061\n",
      "Epoch 18/50\n",
      "404/404 [==============================] - 0s 257us/step - loss: 0.0024 - mean_squared_error: 0.0024 - val_loss: 0.0069 - val_mean_squared_error: 0.0069\n",
      "Epoch 19/50\n",
      "404/404 [==============================] - 0s 277us/step - loss: 0.0024 - mean_squared_error: 0.0024 - val_loss: 0.0094 - val_mean_squared_error: 0.0094\n",
      "Epoch 20/50\n",
      "404/404 [==============================] - 0s 257us/step - loss: 0.0027 - mean_squared_error: 0.0027 - val_loss: 0.0075 - val_mean_squared_error: 0.0075\n",
      "Epoch 21/50\n",
      "404/404 [==============================] - 0s 255us/step - loss: 0.0024 - mean_squared_error: 0.0024 - val_loss: 0.0087 - val_mean_squared_error: 0.0087\n",
      "Epoch 22/50\n",
      "404/404 [==============================] - 0s 252us/step - loss: 0.0022 - mean_squared_error: 0.0022 - val_loss: 0.0063 - val_mean_squared_error: 0.0063\n",
      "Epoch 23/50\n",
      "404/404 [==============================] - 0s 255us/step - loss: 0.0019 - mean_squared_error: 0.0019 - val_loss: 0.0071 - val_mean_squared_error: 0.0071\n",
      "Epoch 24/50\n",
      "404/404 [==============================] - 0s 257us/step - loss: 0.0022 - mean_squared_error: 0.0022 - val_loss: 0.0068 - val_mean_squared_error: 0.0068\n",
      "Epoch 25/50\n",
      "404/404 [==============================] - 0s 255us/step - loss: 0.0032 - mean_squared_error: 0.0032 - val_loss: 0.0068 - val_mean_squared_error: 0.0068\n",
      "Epoch 26/50\n",
      "404/404 [==============================] - 0s 250us/step - loss: 0.0017 - mean_squared_error: 0.0017 - val_loss: 0.0069 - val_mean_squared_error: 0.0069\n",
      "Epoch 27/50\n",
      "404/404 [==============================] - 0s 252us/step - loss: 0.0019 - mean_squared_error: 0.0019 - val_loss: 0.0061 - val_mean_squared_error: 0.0061\n",
      "Epoch 28/50\n",
      "404/404 [==============================] - 0s 255us/step - loss: 0.0019 - mean_squared_error: 0.0019 - val_loss: 0.0061 - val_mean_squared_error: 0.0061\n",
      "Epoch 29/50\n",
      "404/404 [==============================] - 0s 252us/step - loss: 0.0020 - mean_squared_error: 0.0020 - val_loss: 0.0062 - val_mean_squared_error: 0.0062\n",
      "Epoch 30/50\n",
      "404/404 [==============================] - 0s 252us/step - loss: 0.0022 - mean_squared_error: 0.0022 - val_loss: 0.0056 - val_mean_squared_error: 0.0056\n",
      "Epoch 31/50\n",
      "404/404 [==============================] - 0s 255us/step - loss: 0.0016 - mean_squared_error: 0.0016 - val_loss: 0.0057 - val_mean_squared_error: 0.0057\n",
      "Epoch 32/50\n",
      "404/404 [==============================] - 0s 252us/step - loss: 0.0018 - mean_squared_error: 0.0018 - val_loss: 0.0061 - val_mean_squared_error: 0.0061\n",
      "Epoch 33/50\n",
      "404/404 [==============================] - 0s 252us/step - loss: 0.0016 - mean_squared_error: 0.0016 - val_loss: 0.0069 - val_mean_squared_error: 0.0069\n",
      "Epoch 34/50\n",
      "404/404 [==============================] - 0s 252us/step - loss: 0.0023 - mean_squared_error: 0.0023 - val_loss: 0.0056 - val_mean_squared_error: 0.0056\n",
      "Epoch 35/50\n",
      "404/404 [==============================] - 0s 255us/step - loss: 0.0016 - mean_squared_error: 0.0016 - val_loss: 0.0074 - val_mean_squared_error: 0.0074\n",
      "Epoch 36/50\n",
      "404/404 [==============================] - 0s 255us/step - loss: 0.0016 - mean_squared_error: 0.0016 - val_loss: 0.0056 - val_mean_squared_error: 0.0056\n",
      "Epoch 37/50\n",
      "404/404 [==============================] - 0s 255us/step - loss: 0.0015 - mean_squared_error: 0.0015 - val_loss: 0.0077 - val_mean_squared_error: 0.0077\n",
      "Epoch 38/50\n",
      "404/404 [==============================] - 0s 257us/step - loss: 0.0017 - mean_squared_error: 0.0017 - val_loss: 0.0066 - val_mean_squared_error: 0.0066\n",
      "Epoch 39/50\n",
      "404/404 [==============================] - 0s 255us/step - loss: 0.0015 - mean_squared_error: 0.0015 - val_loss: 0.0056 - val_mean_squared_error: 0.0056\n",
      "Epoch 40/50\n",
      "404/404 [==============================] - 0s 255us/step - loss: 0.0016 - mean_squared_error: 0.0016 - val_loss: 0.0055 - val_mean_squared_error: 0.0055\n",
      "Epoch 41/50\n",
      "404/404 [==============================] - 0s 250us/step - loss: 0.0014 - mean_squared_error: 0.0014 - val_loss: 0.0066 - val_mean_squared_error: 0.0066\n",
      "Epoch 42/50\n",
      "404/404 [==============================] - 0s 260us/step - loss: 0.0014 - mean_squared_error: 0.0014 - val_loss: 0.0060 - val_mean_squared_error: 0.0060\n",
      "Epoch 43/50\n",
      "404/404 [==============================] - 0s 260us/step - loss: 0.0015 - mean_squared_error: 0.0015 - val_loss: 0.0072 - val_mean_squared_error: 0.0072\n",
      "Epoch 44/50\n",
      "404/404 [==============================] - 0s 255us/step - loss: 0.0019 - mean_squared_error: 0.0019 - val_loss: 0.0061 - val_mean_squared_error: 0.0061\n",
      "Epoch 45/50\n",
      "404/404 [==============================] - 0s 252us/step - loss: 0.0012 - mean_squared_error: 0.0012 - val_loss: 0.0053 - val_mean_squared_error: 0.0053\n",
      "Epoch 46/50\n",
      "404/404 [==============================] - 0s 255us/step - loss: 0.0014 - mean_squared_error: 0.0014 - val_loss: 0.0065 - val_mean_squared_error: 0.0065\n",
      "Epoch 47/50\n",
      "404/404 [==============================] - 0s 257us/step - loss: 0.0013 - mean_squared_error: 0.0013 - val_loss: 0.0056 - val_mean_squared_error: 0.0056\n",
      "Epoch 48/50\n",
      "404/404 [==============================] - 0s 250us/step - loss: 0.0012 - mean_squared_error: 0.0012 - val_loss: 0.0057 - val_mean_squared_error: 0.0057\n"
     ]
    },
    {
     "name": "stdout",
     "output_type": "stream",
     "text": [
      "Epoch 49/50\n",
      "404/404 [==============================] - 0s 252us/step - loss: 0.0016 - mean_squared_error: 0.0016 - val_loss: 0.0057 - val_mean_squared_error: 0.0057\n",
      "Epoch 50/50\n",
      "404/404 [==============================] - 0s 257us/step - loss: 0.0012 - mean_squared_error: 0.0012 - val_loss: 0.0049 - val_mean_squared_error: 0.0049\n"
     ]
    }
   ],
   "source": [
    "history = modelo.fit(xt, yt, batch_size=batch_size, epochs=epochs, verbose=1, validation_data=(xtest,ytest))"
   ]
  },
  {
   "cell_type": "markdown",
   "metadata": {},
   "source": [
    "### Validación "
   ]
  },
  {
   "cell_type": "code",
   "execution_count": 10,
   "metadata": {},
   "outputs": [
    {
     "name": "stdout",
     "output_type": "stream",
     "text": [
      "102/102 [==============================] - 0s 49us/step\n",
      "[0.004853492383571232, 0.004853492383571232]\n"
     ]
    }
   ],
   "source": [
    "puntuacion = modelo.evaluate(xtest, ytest, verbose=1)\n",
    "print(puntuacion)"
   ]
  },
  {
   "cell_type": "markdown",
   "metadata": {},
   "source": [
    "### Visualización"
   ]
  },
  {
   "cell_type": "code",
   "execution_count": 11,
   "metadata": {},
   "outputs": [
    {
     "data": {
      "image/png": "[encoded data removed]",
      "text/plain": [
       "<Figure size 432x288 with 1 Axes>"
      ]
     },
     "metadata": {
      "needs_background": "light"
     },
     "output_type": "display_data"
    }
   ],
   "source": [
    "plt.figure(1)\n",
    "plt.plot(np.sqrt(history.history['loss'])*maximo)\n",
    "plt.plot(np.sqrt(history.history['val_loss'])*maximo)\n",
    "plt.title('Perdidas de Modelo')\n",
    "plt.ylabel('Perdidas')\n",
    "plt.xlabel('Epocas')\n",
    "plt.legend(['Entrenamiento', 'Test'], loc='upper left')\n",
    "plt.show()"
   ]
  }
 ],
 "metadata": {
  "kernelspec": {
   "display_name": "Python 3",
   "language": "python",
   "name": "python3"
  },
  "language_info": {
   "codemirror_mode": {
    "name": "ipython",
    "version": 3
   },
   "file_extension": ".py",
   "mimetype": "text/x-python",
   "name": "python",
   "nbconvert_exporter": "python",
   "pygments_lexer": "ipython3",
   "version": "3.7.3"
  }
 },
 "nbformat": 4,
 "nbformat_minor": 2
}

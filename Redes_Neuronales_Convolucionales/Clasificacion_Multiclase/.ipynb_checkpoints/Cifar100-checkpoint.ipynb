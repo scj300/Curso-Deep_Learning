{
 "cells": [
  {
   "cell_type": "code",
   "execution_count": 20,
   "metadata": {},
   "outputs": [],
   "source": [
    "import tensorflow as tf\n",
    "import numpy as np\n",
    "import keras\n",
    "from keras.datasets import cifar100\n",
    "from keras.models import Sequential, Model\n",
    "from keras.layers import Dense, Dropout, Flatten, Conv2D, MaxPooling2D, Input\n",
    "from keras import backend as K\n",
    "from keras.callbacks import TensorBoard\n",
    "from keras.optimizers import SGD,Adam\n",
    "from keras.applications import VGG16\n",
    "import matplotlib.pylab as plt"
   ]
  },
  {
   "cell_type": "markdown",
   "metadata": {},
   "source": [
    "### Liberar Memoria de la GPU"
   ]
  },
  {
   "cell_type": "code",
   "execution_count": 21,
   "metadata": {},
   "outputs": [],
   "source": [
    "cfg = K.tf.ConfigProto()\n",
    "cfg.gpu_options.allow_growth = True\n",
    "K.set_session(K.tf.Session(config=cfg))"
   ]
  },
  {
   "cell_type": "markdown",
   "metadata": {},
   "source": [
    "### Mostrar GPU´s disponibles"
   ]
  },
  {
   "cell_type": "code",
   "execution_count": 22,
   "metadata": {},
   "outputs": [],
   "source": [
    "from tensorflow.python.client import device_lib\n",
    "#rint(device_lib.list_local_devices())"
   ]
  },
  {
   "cell_type": "markdown",
   "metadata": {},
   "source": [
    "### Preparación del Modelo"
   ]
  },
  {
   "cell_type": "code",
   "execution_count": 23,
   "metadata": {},
   "outputs": [],
   "source": [
    "batch_size = 100\n",
    "num_classes = 100\n",
    "epochs = 15"
   ]
  },
  {
   "cell_type": "code",
   "execution_count": 24,
   "metadata": {},
   "outputs": [],
   "source": [
    "(xt, yt), (xtest, ytest) = cifar100.load_data()\n",
    "\n",
    "_,filas, columnas, canales = xt.shape\n",
    "\n",
    "xt = xt.astype('float32')\n",
    "xtest = xtest.astype('float32')\n",
    "\n",
    "xt = xt / 255\n",
    "xtest = xtest / 255  # Normalizar entre 0 y 1\n",
    "\n",
    "yt = keras.utils.to_categorical(yt, num_classes)\n",
    "ytest = keras.utils.to_categorical(ytest, num_classes)"
   ]
  },
  {
   "cell_type": "markdown",
   "metadata": {},
   "source": [
    "### Capas del Modelo"
   ]
  },
  {
   "cell_type": "code",
   "execution_count": 25,
   "metadata": {},
   "outputs": [],
   "source": [
    "Entradas = Input(shape=(filas, columnas, canales))\n",
    "x = Conv2D(64, (3, 3), activation='relu', padding='same', name='block1_conv1')(Entradas)\n",
    "#x=Dropout(0.25)(x)\n",
    "x = Conv2D(64, (3, 3), activation='relu', padding='same', name='block1_conv2')(x)\n",
    "x = MaxPooling2D((2, 2), name='block1_pool')(x)\n",
    "\n",
    "x = Conv2D(128, (3, 3), activation='relu', padding='same', name='block2_conv1')(x)\n",
    "#x=Dropout(0.25)(x)\n",
    "x = Conv2D(128, (3, 3), activation='relu', padding='same', name='block2_conv2')(x)\n",
    "x = MaxPooling2D((2, 2), name='block2_pool')(x)\n",
    "\n",
    "x = Flatten()(x)\n",
    "x = Dense(512, activation='relu')(x)\n",
    "x = Dropout(0.5)(x)\n",
    "x = Dense(num_classes, activation='softmax')(x)"
   ]
  },
  {
   "cell_type": "markdown",
   "metadata": {},
   "source": [
    "### Creación del Modelo"
   ]
  },
  {
   "cell_type": "code",
   "execution_count": 26,
   "metadata": {},
   "outputs": [
    {
     "name": "stdout",
     "output_type": "stream",
     "text": [
      "_________________________________________________________________\n",
      "Layer (type)                 Output Shape              Param #   \n",
      "=================================================================\n",
      "input_3 (InputLayer)         (None, 32, 32, 3)         0         \n",
      "_________________________________________________________________\n",
      "block1_conv1 (Conv2D)        (None, 32, 32, 64)        1792      \n",
      "_________________________________________________________________\n",
      "block1_conv2 (Conv2D)        (None, 32, 32, 64)        36928     \n",
      "_________________________________________________________________\n",
      "block1_pool (MaxPooling2D)   (None, 16, 16, 64)        0         \n",
      "_________________________________________________________________\n",
      "block2_conv1 (Conv2D)        (None, 16, 16, 128)       73856     \n",
      "_________________________________________________________________\n",
      "block2_conv2 (Conv2D)        (None, 16, 16, 128)       147584    \n",
      "_________________________________________________________________\n",
      "block2_pool (MaxPooling2D)   (None, 8, 8, 128)         0         \n",
      "_________________________________________________________________\n",
      "flatten_3 (Flatten)          (None, 8192)              0         \n",
      "_________________________________________________________________\n",
      "dense_5 (Dense)              (None, 512)               4194816   \n",
      "_________________________________________________________________\n",
      "dropout_3 (Dropout)          (None, 512)               0         \n",
      "_________________________________________________________________\n",
      "dense_6 (Dense)              (None, 100)               51300     \n",
      "=================================================================\n",
      "Total params: 4,506,276\n",
      "Trainable params: 4,506,276\n",
      "Non-trainable params: 0\n",
      "_________________________________________________________________\n"
     ]
    }
   ],
   "source": [
    "modelo = Model(inputs=Entradas, outputs=x)\n",
    "modelo.summary()"
   ]
  },
  {
   "cell_type": "markdown",
   "metadata": {},
   "source": [
    "### Compilación y Entrenamiento"
   ]
  },
  {
   "cell_type": "code",
   "execution_count": 27,
   "metadata": {},
   "outputs": [],
   "source": [
    "Adam = Adam(lr=0.001,beta_1=0.9,beta_2=0.9) # SGD(lr=0.001, decay=1e-6, momentum=0.9, nesterov=True)\n",
    "modelo.compile(loss=keras.losses.categorical_crossentropy, optimizer=Adam, metrics=['categorical_accuracy'])"
   ]
  },
  {
   "cell_type": "code",
   "execution_count": 28,
   "metadata": {},
   "outputs": [
    {
     "name": "stdout",
     "output_type": "stream",
     "text": [
      "Train on 50000 samples, validate on 10000 samples\n",
      "Epoch 1/15\n",
      "50000/50000 [==============================] - 11s 227us/step - loss: 3.9974 - categorical_accuracy: 0.0853 - val_loss: 3.4075 - val_categorical_accuracy: 0.1949\n",
      "Epoch 2/15\n",
      "50000/50000 [==============================] - 10s 205us/step - loss: 3.2642 - categorical_accuracy: 0.2091 - val_loss: 2.8864 - val_categorical_accuracy: 0.2958\n",
      "Epoch 3/15\n",
      "50000/50000 [==============================] - 10s 203us/step - loss: 2.8614 - categorical_accuracy: 0.2857 - val_loss: 2.5697 - val_categorical_accuracy: 0.3495\n",
      "Epoch 4/15\n",
      "50000/50000 [==============================] - 10s 207us/step - loss: 2.5792 - categorical_accuracy: 0.3429 - val_loss: 2.3929 - val_categorical_accuracy: 0.3889\n",
      "Epoch 5/15\n",
      "50000/50000 [==============================] - 10s 206us/step - loss: 2.3528 - categorical_accuracy: 0.3884 - val_loss: 2.2648 - val_categorical_accuracy: 0.4199\n",
      "Epoch 6/15\n",
      "50000/50000 [==============================] - 10s 205us/step - loss: 2.1529 - categorical_accuracy: 0.4303 - val_loss: 2.1697 - val_categorical_accuracy: 0.4286\n",
      "Epoch 7/15\n",
      "50000/50000 [==============================] - 10s 204us/step - loss: 1.9841 - categorical_accuracy: 0.4684 - val_loss: 2.1907 - val_categorical_accuracy: 0.4386\n",
      "Epoch 8/15\n",
      "50000/50000 [==============================] - 10s 204us/step - loss: 1.8299 - categorical_accuracy: 0.5003 - val_loss: 2.1727 - val_categorical_accuracy: 0.4529\n",
      "Epoch 9/15\n",
      "50000/50000 [==============================] - 10s 205us/step - loss: 1.6908 - categorical_accuracy: 0.5314 - val_loss: 2.1363 - val_categorical_accuracy: 0.4485\n",
      "Epoch 10/15\n",
      "50000/50000 [==============================] - 10s 205us/step - loss: 1.5710 - categorical_accuracy: 0.5611 - val_loss: 2.1421 - val_categorical_accuracy: 0.4625\n",
      "Epoch 11/15\n",
      "50000/50000 [==============================] - 10s 204us/step - loss: 1.4739 - categorical_accuracy: 0.5825 - val_loss: 2.2129 - val_categorical_accuracy: 0.4581\n",
      "Epoch 12/15\n",
      "50000/50000 [==============================] - 10s 205us/step - loss: 1.3829 - categorical_accuracy: 0.6065 - val_loss: 2.1759 - val_categorical_accuracy: 0.4581\n",
      "Epoch 13/15\n",
      "50000/50000 [==============================] - 10s 205us/step - loss: 1.3046 - categorical_accuracy: 0.6283 - val_loss: 2.2787 - val_categorical_accuracy: 0.4608\n",
      "Epoch 14/15\n",
      "50000/50000 [==============================] - 10s 205us/step - loss: 1.2347 - categorical_accuracy: 0.6435 - val_loss: 2.4248 - val_categorical_accuracy: 0.4723\n",
      "Epoch 15/15\n",
      "50000/50000 [==============================] - 10s 205us/step - loss: 1.1877 - categorical_accuracy: 0.6593 - val_loss: 2.5076 - val_categorical_accuracy: 0.4594\n"
     ]
    }
   ],
   "source": [
    "# Sacar el historial de entrenamiento\n",
    "history = modelo.fit(xt, yt, batch_size=batch_size, epochs=epochs, verbose=1, validation_data=(xtest,ytest))"
   ]
  },
  {
   "cell_type": "markdown",
   "metadata": {},
   "source": [
    "### Validación"
   ]
  },
  {
   "cell_type": "code",
   "execution_count": 29,
   "metadata": {},
   "outputs": [
    {
     "name": "stdout",
     "output_type": "stream",
     "text": [
      "10000/10000 [==============================] - 1s 93us/step\n",
      "[2.507634397125244, 0.4594]\n"
     ]
    }
   ],
   "source": [
    "puntuacion = modelo.evaluate(xtest, ytest, verbose=1)\n",
    "print(puntuacion)"
   ]
  },
  {
   "cell_type": "markdown",
   "metadata": {},
   "source": [
    "### Visualización del Entrenamiento"
   ]
  },
  {
   "cell_type": "code",
   "execution_count": 30,
   "metadata": {},
   "outputs": [
    {
     "data": {
      "image/png": "[encoded data removed]",
      "text/plain": [
       "<Figure size 432x288 with 1 Axes>"
      ]
     },
     "metadata": {
      "needs_background": "light"
     },
     "output_type": "display_data"
    },
    {
     "data": {
      "image/png": "[encoded data removed]",
      "text/plain": [
       "<Figure size 432x288 with 1 Axes>"
      ]
     },
     "metadata": {
      "needs_background": "light"
     },
     "output_type": "display_data"
    }
   ],
   "source": [
    "plt.figure(1)\n",
    "plt.plot(history.history['categorical_accuracy'])\n",
    "plt.plot(history.history['val_categorical_accuracy'])\n",
    "plt.title('Precision de Modelo')\n",
    "plt.ylabel('Precision')\n",
    "plt.xlabel('Epocas')\n",
    "plt.legend(['Entrenamiento', 'Test'], loc='upper left')\n",
    "\n",
    "\n",
    "plt.figure(2)\n",
    "plt.plot(history.history['loss'])\n",
    "plt.plot(history.history['val_loss'])\n",
    "plt.title('Perdidas del Modelo')\n",
    "plt.ylabel('Perdidas')\n",
    "plt.xlabel('Epocas')\n",
    "plt.legend(['Entrenamiento', 'Test'], loc='upper left')\n",
    "plt.show()"
   ]
  },
  {
   "cell_type": "code",
   "execution_count": null,
   "metadata": {},
   "outputs": [],
   "source": []
  }
 ],
 "metadata": {
  "kernelspec": {
   "display_name": "Python 3",
   "language": "python",
   "name": "python3"
  },
  "language_info": {
   "codemirror_mode": {
    "name": "ipython",
    "version": 3
   },
   "file_extension": ".py",
   "mimetype": "text/x-python",
   "name": "python",
   "nbconvert_exporter": "python",
   "pygments_lexer": "ipython3",
   "version": "3.7.3"
  }
 },
 "nbformat": 4,
 "nbformat_minor": 2
}

{
 "cells": [
  {
   "cell_type": "code",
   "execution_count": 1,
   "metadata": {},
   "outputs": [
    {
     "name": "stderr",
     "output_type": "stream",
     "text": [
      "Using TensorFlow backend.\n"
     ]
    }
   ],
   "source": [
    "import tensorflow as tf\n",
    "import numpy as np\n",
    "import keras\n",
    "from keras.datasets import mnist\n",
    "from keras.models import Sequential,Model\n",
    "from keras.layers import Dense,Dropout,Flatten,Conv2D,MaxPooling2D,Input\n",
    "from keras import backend as K\n",
    "from keras.callbacks import TensorBoard"
   ]
  },
  {
   "cell_type": "markdown",
   "metadata": {},
   "source": [
    "### Mirar las GPU's disponibles"
   ]
  },
  {
   "cell_type": "code",
   "execution_count": 8,
   "metadata": {},
   "outputs": [],
   "source": [
    "from tensorflow.python.client import device_lib\n",
    "#print(device_lib.list_local_devices())"
   ]
  },
  {
   "cell_type": "code",
   "execution_count": 2,
   "metadata": {},
   "outputs": [],
   "source": [
    "batch_size = 100\n",
    "num_classes = 10\n",
    "epochs = 10"
   ]
  },
  {
   "cell_type": "code",
   "execution_count": 3,
   "metadata": {},
   "outputs": [],
   "source": [
    "filas,columnas = 28, 28\n",
    "\n",
    "(xt,yt), (xtest,ytest) = mnist.load_data()\n",
    "\n",
    "xt = xt.reshape(xt.shape[0], filas, columnas,1)\n",
    "xtest = xtest.reshape(xtest.shape[0], filas, columnas, 1)\n",
    "\n",
    "xt = xt.astype('float32')\n",
    "xtest = xtest.astype('float32')\n",
    "\n",
    "xt = xt / 255\n",
    "xtest = xtest / 255\n",
    "\n",
    "yt = keras.utils.to_categorical(yt, num_classes)\n",
    "ytest = keras.utils.to_categorical(ytest, num_classes)"
   ]
  },
  {
   "cell_type": "markdown",
   "metadata": {},
   "source": [
    "## Creación de las Capas"
   ]
  },
  {
   "cell_type": "code",
   "execution_count": 4,
   "metadata": {},
   "outputs": [
    {
     "name": "stdout",
     "output_type": "stream",
     "text": [
      "WARNING:tensorflow:From C:\\Users\\Asus\\Anaconda3\\lib\\site-packages\\tensorflow\\python\\framework\\op_def_library.py:263: colocate_with (from tensorflow.python.framework.ops) is deprecated and will be removed in a future version.\n",
      "Instructions for updating:\n",
      "Colocations handled automatically by placer.\n"
     ]
    }
   ],
   "source": [
    "Entradas = Input(shape=(28, 28, 1))\n",
    "\n",
    "# Capa convolucional a las entradas, 64 filtros con tamaño de 3x3\n",
    "x = Conv2D(64, kernel_size=(3,3), activation='relu')(Entradas)\n",
    "\n",
    "# Capa convolucional a la salida de la primera convolución, 128 filtros con tamaño de 3x3\n",
    "x = Conv2D(128,kernel_size=(3,3),activation='relu')(x)\n",
    "\n",
    "# Reducir el tamaño de la salida y obtener las características más importantes\n",
    "x = MaxPooling2D(pool_size=(2,2))(x)  \n",
    "\n",
    "# Reducir a una dimensión\n",
    "x = Flatten()(x)\n",
    "\n",
    "# Capas Clásicas\n",
    "x = Dense(68,activation='relu')(x)\n",
    "#x=Dropout(0.25)(x) # Opcional\n",
    "x = Dense(20,activation='relu')(x)\n",
    "#x=Dropout(0.25)(x)\n",
    "x = Dense(num_classes,activation='softmax')(x)"
   ]
  },
  {
   "cell_type": "markdown",
   "metadata": {},
   "source": [
    "## Creación del Modelo"
   ]
  },
  {
   "cell_type": "code",
   "execution_count": 5,
   "metadata": {},
   "outputs": [
    {
     "name": "stdout",
     "output_type": "stream",
     "text": [
      "_________________________________________________________________\n",
      "Layer (type)                 Output Shape              Param #   \n",
      "=================================================================\n",
      "input_1 (InputLayer)         (None, 28, 28, 1)         0         \n",
      "_________________________________________________________________\n",
      "conv2d_1 (Conv2D)            (None, 26, 26, 64)        640       \n",
      "_________________________________________________________________\n",
      "conv2d_2 (Conv2D)            (None, 24, 24, 128)       73856     \n",
      "_________________________________________________________________\n",
      "max_pooling2d_1 (MaxPooling2 (None, 12, 12, 128)       0         \n",
      "_________________________________________________________________\n",
      "flatten_1 (Flatten)          (None, 18432)             0         \n",
      "_________________________________________________________________\n",
      "dense_1 (Dense)              (None, 68)                1253444   \n",
      "_________________________________________________________________\n",
      "dense_2 (Dense)              (None, 20)                1380      \n",
      "_________________________________________________________________\n",
      "dense_3 (Dense)              (None, 10)                210       \n",
      "=================================================================\n",
      "Total params: 1,329,530\n",
      "Trainable params: 1,329,530\n",
      "Non-trainable params: 0\n",
      "_________________________________________________________________\n"
     ]
    }
   ],
   "source": [
    "modelo = Model(inputs=Entradas, outputs=x)\n",
    "modelo.summary()"
   ]
  },
  {
   "cell_type": "markdown",
   "metadata": {},
   "source": [
    "## Compilación y entrenamiento del modelo"
   ]
  },
  {
   "cell_type": "code",
   "execution_count": 6,
   "metadata": {},
   "outputs": [
    {
     "name": "stdout",
     "output_type": "stream",
     "text": [
      "WARNING:tensorflow:From C:\\Users\\Asus\\Anaconda3\\lib\\site-packages\\tensorflow\\python\\ops\\math_ops.py:3066: to_int32 (from tensorflow.python.ops.math_ops) is deprecated and will be removed in a future version.\n",
      "Instructions for updating:\n",
      "Use tf.cast instead.\n",
      "Train on 60000 samples, validate on 10000 samples\n",
      "Epoch 1/10\n",
      "60000/60000 [==============================] - 11s 179us/step - loss: 0.1699 - categorical_accuracy: 0.9491 - val_loss: 0.0602 - val_categorical_accuracy: 0.9826\n",
      "Epoch 2/10\n",
      "60000/60000 [==============================] - 7s 113us/step - loss: 0.0443 - categorical_accuracy: 0.9866 - val_loss: 0.0372 - val_categorical_accuracy: 0.9877\n",
      "Epoch 3/10\n",
      "60000/60000 [==============================] - 7s 113us/step - loss: 0.0288 - categorical_accuracy: 0.9909 - val_loss: 0.0508 - val_categorical_accuracy: 0.9843\n",
      "Epoch 4/10\n",
      "60000/60000 [==============================] - 7s 114us/step - loss: 0.0190 - categorical_accuracy: 0.9940 - val_loss: 0.0396 - val_categorical_accuracy: 0.9885\n",
      "Epoch 5/10\n",
      "60000/60000 [==============================] - 7s 115us/step - loss: 0.0146 - categorical_accuracy: 0.9953 - val_loss: 0.0375 - val_categorical_accuracy: 0.9893\n",
      "Epoch 6/10\n",
      "60000/60000 [==============================] - 7s 114us/step - loss: 0.0103 - categorical_accuracy: 0.9969 - val_loss: 0.0391 - val_categorical_accuracy: 0.9902\n",
      "Epoch 7/10\n",
      "60000/60000 [==============================] - 7s 113us/step - loss: 0.0092 - categorical_accuracy: 0.9973 - val_loss: 0.0408 - val_categorical_accuracy: 0.9893\n",
      "Epoch 8/10\n",
      "60000/60000 [==============================] - 7s 114us/step - loss: 0.0076 - categorical_accuracy: 0.9973 - val_loss: 0.0448 - val_categorical_accuracy: 0.9889\n",
      "Epoch 9/10\n",
      "60000/60000 [==============================] - 7s 114us/step - loss: 0.0070 - categorical_accuracy: 0.9977 - val_loss: 0.0529 - val_categorical_accuracy: 0.9888\n",
      "Epoch 10/10\n",
      "60000/60000 [==============================] - 7s 114us/step - loss: 0.0063 - categorical_accuracy: 0.9979 - val_loss: 0.0592 - val_categorical_accuracy: 0.9864\n"
     ]
    },
    {
     "data": {
      "text/plain": [
       "<keras.callbacks.History at 0x1ea88bfdc50>"
      ]
     },
     "execution_count": 6,
     "metadata": {},
     "output_type": "execute_result"
    }
   ],
   "source": [
    "modelo.compile(loss=keras.losses.categorical_crossentropy, optimizer=keras.optimizers.Adam(), metrics=['categorical_accuracy'])\n",
    "\n",
    "# Entrenar preferiblemente con GPU, sino tardará bastante (+- 3 minutos por época)\n",
    "modelo.fit(xt, yt, batch_size=batch_size, epochs=epochs, verbose=1, validation_data=(xtest,ytest))"
   ]
  },
  {
   "cell_type": "markdown",
   "metadata": {},
   "source": [
    "## Evaluación del modelo"
   ]
  },
  {
   "cell_type": "code",
   "execution_count": 7,
   "metadata": {},
   "outputs": [
    {
     "name": "stdout",
     "output_type": "stream",
     "text": [
      "10000/10000 [==============================] - 1s 69us/step\n"
     ]
    },
    {
     "data": {
      "text/plain": [
       "[0.0591607699227804, 0.9864]"
      ]
     },
     "execution_count": 7,
     "metadata": {},
     "output_type": "execute_result"
    }
   ],
   "source": [
    "puntuacion = modelo.evaluate(xtest, ytest, verbose=1)\n",
    "puntuacion"
   ]
  }
 ],
 "metadata": {
  "kernelspec": {
   "display_name": "Python 3",
   "language": "python",
   "name": "python3"
  },
  "language_info": {
   "codemirror_mode": {
    "name": "ipython",
    "version": 3
   },
   "file_extension": ".py",
   "mimetype": "text/x-python",
   "name": "python",
   "nbconvert_exporter": "python",
   "pygments_lexer": "ipython3",
   "version": "3.7.3"
  }
 },
 "nbformat": 4,
 "nbformat_minor": 2
}

{
 "cells": [
  {
   "cell_type": "code",
   "execution_count": 1,
   "metadata": {
    "colab": {
     "base_uri": "https://localhost:8080/",
     "height": 1443
    },
    "colab_type": "code",
    "id": "gxJWrp-gkZ8Y",
    "outputId": "075436eb-9670-41b7-f178-72591dbe3428"
   },
   "outputs": [
    {
     "name": "stderr",
     "output_type": "stream",
     "text": [
      "Using TensorFlow backend.\n"
     ]
    }
   ],
   "source": [
    "import tensorflow as tf\n",
    "import numpy as np\n",
    "import keras\n",
    "from keras.datasets import cifar100\n",
    "from keras.models import Sequential ,Model\n",
    "from keras.layers import Dense, Dropout, Flatten, Conv2D, MaxPooling2D, Input\n",
    "from keras import backend as K\n",
    "from keras.callbacks import TensorBoard\n",
    "from keras.optimizers import SGD, Adam\n",
    "from keras.applications import VGG16"
   ]
  },
  {
   "cell_type": "markdown",
   "metadata": {},
   "source": [
    "###  Mirar las GPU's disponibles"
   ]
  },
  {
   "cell_type": "code",
   "execution_count": 2,
   "metadata": {},
   "outputs": [
    {
     "name": "stdout",
     "output_type": "stream",
     "text": [
      "[name: \"/device:CPU:0\"\n",
      "device_type: \"CPU\"\n",
      "memory_limit: 268435456\n",
      "locality {\n",
      "}\n",
      "incarnation: 3549992719656095456\n",
      ", name: \"/device:GPU:0\"\n",
      "device_type: \"GPU\"\n",
      "memory_limit: 6671596257\n",
      "locality {\n",
      "  bus_id: 1\n",
      "  links {\n",
      "  }\n",
      "}\n",
      "incarnation: 833674824862654077\n",
      "physical_device_desc: \"device: 0, name: GeForce GTX 1080, pci bus id: 0000:02:00.0, compute capability: 6.1\"\n",
      "]\n"
     ]
    }
   ],
   "source": [
    "from tensorflow.python.client import device_lib\n",
    "print(device_lib.list_local_devices())"
   ]
  },
  {
   "cell_type": "code",
   "execution_count": 3,
   "metadata": {
    "colab": {},
    "colab_type": "code",
    "id": "eAhBjpHv2Q8N"
   },
   "outputs": [],
   "source": [
    "batch_size = 100\n",
    "num_classes = 100\n",
    "epochs = 30"
   ]
  },
  {
   "cell_type": "code",
   "execution_count": null,
   "metadata": {},
   "outputs": [
    {
     "name": "stdout",
     "output_type": "stream",
     "text": [
      "Downloading data from https://www.cs.toronto.edu/~kriz/cifar-100-python.tar.gz\n",
      " 46440448/169001437 [=======>......................] - ETA: 9:03"
     ]
    }
   ],
   "source": [
    "(xt,yt),(xtest,ytest) = cifar100.load_data()\n",
    "\n",
    "_,filas, columnas, canales = xt.shape\n",
    "\n",
    "xt = xt.astype('float32')\n",
    "xtest = xtest.astype('float32')\n",
    "\n",
    "xt = xt / 255\n",
    "xtest = xtest / 255\n",
    "\n",
    "yt = keras.utils.to_categorical(yt, num_classes)\n",
    "ytest = keras.utils.to_categorical(ytest, num_classes)"
   ]
  },
  {
   "cell_type": "code",
   "execution_count": 12,
   "metadata": {},
   "outputs": [],
   "source": [
    "Basica = 0"
   ]
  },
  {
   "cell_type": "code",
   "execution_count": 13,
   "metadata": {},
   "outputs": [],
   "source": [
    "# Topología más sencilla\n",
    "# No es capaz de procesar adecudamente los datos, no puede aprender\n",
    "if Basica == 1:\n",
    "    Entradas = Input(shape=(filas, columnas, canales))\n",
    "\n",
    "    # Capa convolucional a las entradas, 64 filtros con tamaño de 3x3\n",
    "    x = Conv2D(64, kernel_size=(3,3), activation='relu')(Entradas)  \n",
    "\n",
    "    # Capa convolucional a la salida de la primera convolución, 128 filtros con tamaño de 3x3\n",
    "    x = Conv2D(128, kernel_size=(3,3), activation='relu')(x) \n",
    "    x = MaxPooling2D(pool_size=(2,2))(x) # Reducir el tamaño de la salida y obtener las características más importantes\n",
    "    x = Flatten()(x)  # Reducir a una dimensión\n",
    "    x = Dense(100, activation='relu')(x)\n",
    "    x = Dense(num_classes, activation='softmax')(x)\n",
    "\n",
    "    \n",
    "# Bancos de Convoluciones    \n",
    "if Basica == 0:\n",
    "    Entradas = Input(shape=(filas, columnas, canales))\n",
    "    \n",
    "    # Block 1\n",
    "    x = Conv2D(64, (3, 3), activation='relu', padding='same', name='block1_conv1')(Entradas)\n",
    "    x = Conv2D(64, (3, 3), activation='relu', padding='same', name='block1_conv2')(x)\n",
    "    x = MaxPooling2D((2, 2), strides=(2, 2), name='block1_pool')(x)\n",
    "    \n",
    "    # Block 2\n",
    "    x = Conv2D(128, (3, 3), activation='relu', padding='same', name='block2_conv1')(x)\n",
    "    x = Conv2D(128, (3, 3), activation='relu', padding='same', name='block2_conv2')(x)\n",
    "    x = MaxPooling2D((2, 2), strides=(2, 2), name='block2_pool')(x)\n",
    "    \n",
    "    # Block 3\n",
    "    x = Conv2D(256, (3, 3), activation='relu', padding='same', name='block3_conv1')(x)\n",
    "    x = Conv2D(256, (3, 3), activation='relu', padding='same', name='block3_conv2')(x)\n",
    "    x = Conv2D(256, (3, 3), activation='relu', padding='same', name='block3_conv3')(x)\n",
    "    x = MaxPooling2D((2, 2), strides=(2, 2), name='block3_pool')(x)\n",
    "\n",
    "    x = Flatten()(x)\n",
    "    x = Dense(100, activation='relu')(x)\n",
    "    x = Dense(num_classes, activation='softmax')(x)"
   ]
  },
  {
   "cell_type": "code",
   "execution_count": 14,
   "metadata": {},
   "outputs": [
    {
     "name": "stdout",
     "output_type": "stream",
     "text": [
      "_________________________________________________________________\n",
      "Layer (type)                 Output Shape              Param #   \n",
      "=================================================================\n",
      "input_2 (InputLayer)         (None, 32, 32, 3)         0         \n",
      "_________________________________________________________________\n",
      "block1_conv1 (Conv2D)        (None, 32, 32, 64)        1792      \n",
      "_________________________________________________________________\n",
      "block1_conv2 (Conv2D)        (None, 32, 32, 64)        36928     \n",
      "_________________________________________________________________\n",
      "block1_pool (MaxPooling2D)   (None, 16, 16, 64)        0         \n",
      "_________________________________________________________________\n",
      "block2_conv1 (Conv2D)        (None, 16, 16, 128)       73856     \n",
      "_________________________________________________________________\n",
      "block2_conv2 (Conv2D)        (None, 16, 16, 128)       147584    \n",
      "_________________________________________________________________\n",
      "block2_pool (MaxPooling2D)   (None, 8, 8, 128)         0         \n",
      "_________________________________________________________________\n",
      "block3_conv1 (Conv2D)        (None, 8, 8, 256)         295168    \n",
      "_________________________________________________________________\n",
      "block3_conv2 (Conv2D)        (None, 8, 8, 256)         590080    \n",
      "_________________________________________________________________\n",
      "block3_conv3 (Conv2D)        (None, 8, 8, 256)         590080    \n",
      "_________________________________________________________________\n",
      "block3_pool (MaxPooling2D)   (None, 4, 4, 256)         0         \n",
      "_________________________________________________________________\n",
      "flatten_2 (Flatten)          (None, 4096)              0         \n",
      "_________________________________________________________________\n",
      "dense_3 (Dense)              (None, 10)                40970     \n",
      "_________________________________________________________________\n",
      "dense_4 (Dense)              (None, 10)                110       \n",
      "=================================================================\n",
      "Total params: 1,776,568\n",
      "Trainable params: 1,776,568\n",
      "Non-trainable params: 0\n",
      "_________________________________________________________________\n"
     ]
    }
   ],
   "source": [
    "modelo = Model(inputs=Entradas, outputs=x)\n",
    "modelo.summary()"
   ]
  },
  {
   "cell_type": "code",
   "execution_count": 15,
   "metadata": {},
   "outputs": [],
   "source": [
    "descenso_gradiente_estocastico = Adam(lr=0.001, beta_1=0.9, beta_2=0.9) #SGD(lr=0.001, decay=1e-6, momentum=0.9, nesterov=True)\n",
    "modelo.compile(loss=keras.losses.categorical_crossentropy, optimizer=descenso_gradiente_estocastico, metrics=['categorical_accuracy'])"
   ]
  },
  {
   "cell_type": "code",
   "execution_count": null,
   "metadata": {},
   "outputs": [
    {
     "name": "stdout",
     "output_type": "stream",
     "text": [
      "Train on 50000 samples, validate on 10000 samples\n",
      "Epoch 1/30\n",
      "50000/50000 [==============================] - 14s 272us/step - loss: 2.2178 - categorical_accuracy: 0.1513 - val_loss: 2.0978 - val_categorical_accuracy: 0.1842\n",
      "Epoch 2/30\n",
      "50000/50000 [==============================] - 13s 255us/step - loss: 2.0206 - categorical_accuracy: 0.1987 - val_loss: 1.9686 - val_categorical_accuracy: 0.2163\n",
      "Epoch 3/30\n",
      "50000/50000 [==============================] - 13s 254us/step - loss: 1.9073 - categorical_accuracy: 0.2194 - val_loss: 1.8881 - val_categorical_accuracy: 0.2160\n",
      "Epoch 4/30\n",
      "50000/50000 [==============================] - 13s 254us/step - loss: 1.8321 - categorical_accuracy: 0.2339 - val_loss: 1.8219 - val_categorical_accuracy: 0.2239\n",
      "Epoch 5/30\n",
      "50000/50000 [==============================] - 13s 253us/step - loss: 1.7872 - categorical_accuracy: 0.2594 - val_loss: 1.7747 - val_categorical_accuracy: 0.2654\n",
      "Epoch 6/30\n",
      "50000/50000 [==============================] - 13s 253us/step - loss: 1.7304 - categorical_accuracy: 0.2907 - val_loss: 1.6406 - val_categorical_accuracy: 0.3360\n",
      "Epoch 7/30\n",
      "50000/50000 [==============================] - 13s 254us/step - loss: 1.4766 - categorical_accuracy: 0.4449 - val_loss: 1.3472 - val_categorical_accuracy: 0.5082\n",
      "Epoch 8/30\n",
      "50000/50000 [==============================] - 13s 260us/step - loss: 1.2031 - categorical_accuracy: 0.5638 - val_loss: 1.1179 - val_categorical_accuracy: 0.5986\n",
      "Epoch 9/30\n",
      "50000/50000 [==============================] - 13s 259us/step - loss: 1.0070 - categorical_accuracy: 0.6391 - val_loss: 1.0486 - val_categorical_accuracy: 0.6471\n",
      "Epoch 10/30\n",
      "50000/50000 [==============================] - 13s 255us/step - loss: 0.9005 - categorical_accuracy: 0.6770 - val_loss: 0.9889 - val_categorical_accuracy: 0.6555\n",
      "Epoch 11/30\n",
      "50000/50000 [==============================] - 13s 256us/step - loss: 0.8229 - categorical_accuracy: 0.7061 - val_loss: 0.9361 - val_categorical_accuracy: 0.6850\n",
      "Epoch 12/30\n",
      "50000/50000 [==============================] - 13s 251us/step - loss: 0.7515 - categorical_accuracy: 0.7317 - val_loss: 0.8896 - val_categorical_accuracy: 0.6904\n",
      "Epoch 13/30\n",
      "50000/50000 [==============================] - 13s 256us/step - loss: 0.6844 - categorical_accuracy: 0.7561 - val_loss: 0.8409 - val_categorical_accuracy: 0.7239\n",
      "Epoch 14/30\n",
      "50000/50000 [==============================] - 13s 256us/step - loss: 0.6185 - categorical_accuracy: 0.7813 - val_loss: 0.8802 - val_categorical_accuracy: 0.7276\n",
      "Epoch 15/30\n",
      "50000/50000 [==============================] - 13s 254us/step - loss: 0.5512 - categorical_accuracy: 0.8073 - val_loss: 0.8444 - val_categorical_accuracy: 0.7397\n",
      "Epoch 16/30\n",
      "50000/50000 [==============================] - 12s 250us/step - loss: 0.4959 - categorical_accuracy: 0.8272 - val_loss: 0.8429 - val_categorical_accuracy: 0.7490\n",
      "Epoch 17/30\n",
      "39200/50000 [======================>.......] - ETA: 2s - loss: 0.4403 - categorical_accuracy: 0.8445"
     ]
    }
   ],
   "source": [
    "modelo.fit(xt, yt, batch_size=batch_size, epochs=epochs, verbose=1, validation_data=(xtest, ytest))"
   ]
  },
  {
   "cell_type": "code",
   "execution_count": 11,
   "metadata": {},
   "outputs": [
    {
     "name": "stdout",
     "output_type": "stream",
     "text": [
      "10000/10000 [==============================] - 1s 89us/step\n",
      "[1.4627258655548097, 0.5409]\n"
     ]
    }
   ],
   "source": [
    "puntuacion = modelo.evaluate(xtest, ytest, verbose=1)\n",
    "print(puntuacion)"
   ]
  },
  {
   "cell_type": "code",
   "execution_count": null,
   "metadata": {},
   "outputs": [],
   "source": []
  }
 ],
 "metadata": {
  "accelerator": "GPU",
  "colab": {
   "collapsed_sections": [],
   "name": "cifar10.ipynb",
   "provenance": [],
   "version": "0.3.2"
  },
  "kernelspec": {
   "display_name": "Python 3",
   "language": "python",
   "name": "python3"
  },
  "language_info": {
   "codemirror_mode": {
    "name": "ipython",
    "version": 3
   },
   "file_extension": ".py",
   "mimetype": "text/x-python",
   "name": "python",
   "nbconvert_exporter": "python",
   "pygments_lexer": "ipython3",
   "version": "3.7.3"
  }
 },
 "nbformat": 4,
 "nbformat_minor": 1
}

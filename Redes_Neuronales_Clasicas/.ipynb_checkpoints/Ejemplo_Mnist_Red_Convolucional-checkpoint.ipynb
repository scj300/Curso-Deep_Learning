{
 "cells": [
  {
   "cell_type": "code",
   "execution_count": 1,
   "metadata": {},
   "outputs": [
    {
     "name": "stderr",
     "output_type": "stream",
     "text": [
      "Using TensorFlow backend.\n"
     ]
    }
   ],
   "source": [
    "import tensorflow as tf\n",
    "import numpy as np\n",
    "import keras\n",
    "from keras.datasets import mnist\n",
    "from keras.models import Sequential\n",
    "from keras.layers import Dense,Dropout,Flatten,Conv2D,MaxPooling2D\n",
    "from keras import backend as K\n",
    "from keras.callbacks import TensorBoard\n",
    "import time\n",
    "import matplotlib.pyplot as plt"
   ]
  },
  {
   "cell_type": "code",
   "execution_count": 2,
   "metadata": {},
   "outputs": [
    {
     "name": "stdout",
     "output_type": "stream",
     "text": [
      "[name: \"/device:CPU:0\"\n",
      "device_type: \"CPU\"\n",
      "memory_limit: 268435456\n",
      "locality {\n",
      "}\n",
      "incarnation: 6946994072604441509\n",
      ", name: \"/device:GPU:0\"\n",
      "device_type: \"GPU\"\n",
      "memory_limit: 6671596257\n",
      "locality {\n",
      "  bus_id: 1\n",
      "  links {\n",
      "  }\n",
      "}\n",
      "incarnation: 3040293225859584772\n",
      "physical_device_desc: \"device: 0, name: GeForce GTX 1080, pci bus id: 0000:02:00.0, compute capability: 6.1\"\n",
      "]\n"
     ]
    }
   ],
   "source": [
    "# Mirar las GPU's disponibles\n",
    "from tensorflow.python.client import device_lib\n",
    "print(device_lib.list_local_devices())"
   ]
  },
  {
   "cell_type": "code",
   "execution_count": 8,
   "metadata": {},
   "outputs": [],
   "source": [
    "batch_size = 128\n",
    "num_classes = 10\n",
    "epochs = 30\n",
    "\n",
    "filas,columnas= 28,28\n",
    "\n",
    "(xt,yt),(xtest,ytest) = mnist.load_data()\n",
    "\n",
    "xt = xt.reshape(xt.shape[0],filas,columnas,1)\n",
    "xtest = xtest.reshape(xtest.shape[0],filas,columnas,1)\n",
    "\n",
    "xt = xt.astype('float32')\n",
    "xtest = xtest.astype('float32')\n",
    "\n",
    "xt = xt / 255\n",
    "xtest = xtest / 255\n",
    "\n",
    "yt = keras.utils.to_categorical(yt,num_classes)\n",
    "ytest = keras.utils.to_categorical(ytest,num_classes)"
   ]
  },
  {
   "cell_type": "code",
   "execution_count": 9,
   "metadata": {},
   "outputs": [],
   "source": [
    "modelo = Sequential()"
   ]
  },
  {
   "cell_type": "code",
   "execution_count": 10,
   "metadata": {},
   "outputs": [],
   "source": [
    "modelo.add(Conv2D(64,kernel_size=(3,3),activation='relu',input_shape=(28,28,1)))\n",
    "modelo.add(Conv2D(128,kernel_size=(3,3),activation='relu',input_shape=(28,28,1)))\n",
    "modelo.add(MaxPooling2D(pool_size=(2,2)))\n",
    "modelo.add(Flatten()) # Llevar todas la dimensiones a una sola\n",
    "modelo.add(Dense(68))\n",
    "modelo.add(Dropout(0.25)) # Capa de regularización, que las neuronas sean independientes. 25% de probabilidad de cancelación\n",
    "modelo.add(Dense(20))\n",
    "modelo.add(Dropout(0.25)) # Capa de regularización, que las neuronas sean independientes. 25% de probabilidad de cancelación\n",
    "modelo.add(Dense(num_classes,activation='softmax'))"
   ]
  },
  {
   "cell_type": "code",
   "execution_count": 11,
   "metadata": {},
   "outputs": [],
   "source": [
    "modelo.compile(loss=keras.losses.categorical_crossentropy,optimizer=keras.optimizers.Adam(),metrics=['accuracy'])"
   ]
  },
  {
   "cell_type": "code",
   "execution_count": 12,
   "metadata": {},
   "outputs": [
    {
     "name": "stdout",
     "output_type": "stream",
     "text": [
      "Train on 60000 samples, validate on 10000 samples\n",
      "Epoch 1/30\n",
      "60000/60000 [==============================] - 7s 110us/step - loss: 0.2211 - acc: 0.9322 - val_loss: 0.0526 - val_acc: 0.9829\n",
      "Epoch 2/30\n",
      "60000/60000 [==============================] - 6s 100us/step - loss: 0.0839 - acc: 0.9745 - val_loss: 0.0386 - val_acc: 0.9880\n",
      "Epoch 3/30\n",
      "60000/60000 [==============================] - 6s 101us/step - loss: 0.0601 - acc: 0.9819 - val_loss: 0.0357 - val_acc: 0.9875\n",
      "Epoch 4/30\n",
      "60000/60000 [==============================] - 6s 100us/step - loss: 0.0478 - acc: 0.9856 - val_loss: 0.0374 - val_acc: 0.9881\n",
      "Epoch 5/30\n",
      "60000/60000 [==============================] - 6s 101us/step - loss: 0.0387 - acc: 0.9879 - val_loss: 0.0297 - val_acc: 0.9904\n",
      "Epoch 6/30\n",
      "60000/60000 [==============================] - 6s 102us/step - loss: 0.0318 - acc: 0.9898 - val_loss: 0.0349 - val_acc: 0.9890\n",
      "Epoch 7/30\n",
      "60000/60000 [==============================] - 6s 101us/step - loss: 0.0292 - acc: 0.9905 - val_loss: 0.0289 - val_acc: 0.9912\n",
      "Epoch 8/30\n",
      "60000/60000 [==============================] - 6s 101us/step - loss: 0.0221 - acc: 0.9929 - val_loss: 0.0394 - val_acc: 0.9891\n",
      "Epoch 9/30\n",
      "60000/60000 [==============================] - 6s 101us/step - loss: 0.0221 - acc: 0.9928 - val_loss: 0.0323 - val_acc: 0.9911\n",
      "Epoch 10/30\n",
      "60000/60000 [==============================] - 6s 101us/step - loss: 0.0170 - acc: 0.9943 - val_loss: 0.0341 - val_acc: 0.9912\n",
      "Epoch 11/30\n",
      "60000/60000 [==============================] - 6s 101us/step - loss: 0.0185 - acc: 0.9938 - val_loss: 0.0337 - val_acc: 0.9909\n",
      "Epoch 12/30\n",
      "60000/60000 [==============================] - 6s 100us/step - loss: 0.0158 - acc: 0.9951 - val_loss: 0.0418 - val_acc: 0.9896\n",
      "Epoch 13/30\n",
      "60000/60000 [==============================] - 6s 101us/step - loss: 0.0142 - acc: 0.9951 - val_loss: 0.0411 - val_acc: 0.9896\n",
      "Epoch 14/30\n",
      "60000/60000 [==============================] - 6s 101us/step - loss: 0.0136 - acc: 0.9954 - val_loss: 0.0427 - val_acc: 0.9915\n",
      "Epoch 15/30\n",
      "60000/60000 [==============================] - 6s 101us/step - loss: 0.0130 - acc: 0.9955 - val_loss: 0.0448 - val_acc: 0.9907\n",
      "Epoch 16/30\n",
      "60000/60000 [==============================] - 6s 101us/step - loss: 0.0108 - acc: 0.9962 - val_loss: 0.0401 - val_acc: 0.9909\n",
      "Epoch 17/30\n",
      "60000/60000 [==============================] - 6s 101us/step - loss: 0.0120 - acc: 0.9959 - val_loss: 0.0385 - val_acc: 0.9904\n",
      "Epoch 18/30\n",
      "60000/60000 [==============================] - 6s 101us/step - loss: 0.0098 - acc: 0.9966 - val_loss: 0.0479 - val_acc: 0.9902\n",
      "Epoch 19/30\n",
      "60000/60000 [==============================] - 6s 101us/step - loss: 0.0120 - acc: 0.9963 - val_loss: 0.0519 - val_acc: 0.9905\n",
      "Epoch 20/30\n",
      "60000/60000 [==============================] - 6s 101us/step - loss: 0.0095 - acc: 0.9969 - val_loss: 0.0514 - val_acc: 0.9894\n",
      "Epoch 21/30\n",
      "60000/60000 [==============================] - 6s 101us/step - loss: 0.0079 - acc: 0.9976 - val_loss: 0.0442 - val_acc: 0.9908\n",
      "Epoch 22/30\n",
      "60000/60000 [==============================] - 6s 101us/step - loss: 0.0088 - acc: 0.9971 - val_loss: 0.0473 - val_acc: 0.9894\n",
      "Epoch 23/30\n",
      "60000/60000 [==============================] - 6s 101us/step - loss: 0.0084 - acc: 0.9975 - val_loss: 0.0560 - val_acc: 0.9894\n",
      "Epoch 24/30\n",
      "60000/60000 [==============================] - 6s 103us/step - loss: 0.0083 - acc: 0.9973 - val_loss: 0.0557 - val_acc: 0.9898\n",
      "Epoch 25/30\n",
      "60000/60000 [==============================] - 7s 109us/step - loss: 0.0086 - acc: 0.9970 - val_loss: 0.0449 - val_acc: 0.9915\n",
      "Epoch 26/30\n",
      "60000/60000 [==============================] - 7s 111us/step - loss: 0.0057 - acc: 0.9984 - val_loss: 0.0461 - val_acc: 0.9912\n",
      "Epoch 27/30\n",
      "60000/60000 [==============================] - 7s 111us/step - loss: 0.0078 - acc: 0.9976 - val_loss: 0.0477 - val_acc: 0.9913\n",
      "Epoch 28/30\n",
      "60000/60000 [==============================] - 7s 109us/step - loss: 0.0076 - acc: 0.9975 - val_loss: 0.0578 - val_acc: 0.9913\n",
      "Epoch 29/30\n",
      "60000/60000 [==============================] - 7s 109us/step - loss: 0.0075 - acc: 0.9979 - val_loss: 0.0466 - val_acc: 0.9911\n",
      "Epoch 30/30\n",
      "60000/60000 [==============================] - 7s 109us/step - loss: 0.0075 - acc: 0.9977 - val_loss: 0.0488 - val_acc: 0.9913\n"
     ]
    }
   ],
   "source": [
    "history = modelo.fit(xt,yt,batch_size=batch_size,epochs=epochs,verbose=1,validation_data=(xtest,ytest))"
   ]
  },
  {
   "cell_type": "code",
   "execution_count": 13,
   "metadata": {},
   "outputs": [
    {
     "name": "stdout",
     "output_type": "stream",
     "text": [
      "10000/10000 [==============================] - 1s 69us/step\n",
      "[0.048752330850446036, 0.9913]\n"
     ]
    }
   ],
   "source": [
    "puntuacion = modelo.evaluate(xtest,ytest,verbose=1)\n",
    "print(puntuacion)"
   ]
  },
  {
   "cell_type": "code",
   "execution_count": 14,
   "metadata": {},
   "outputs": [
    {
     "data": {
      "image/png": "[encoded data removed]",
      "text/plain": [
       "<Figure size 432x288 with 1 Axes>"
      ]
     },
     "metadata": {
      "needs_background": "light"
     },
     "output_type": "display_data"
    }
   ],
   "source": [
    "# summarize history for accuracy\n",
    "plt.plot(history.history['acc'])\n",
    "plt.plot(history.history['val_acc'])\n",
    "plt.title('model accuracy')\n",
    "plt.ylabel('accuracy')\n",
    "plt.xlabel('epoch')\n",
    "plt.legend(['train', 'test'], loc='upper left')\n",
    "plt.show()"
   ]
  },
  {
   "cell_type": "code",
   "execution_count": 15,
   "metadata": {},
   "outputs": [
    {
     "data": {
      "image/png": "[encoded data removed]",
      "text/plain": [
       "<Figure size 432x288 with 1 Axes>"
      ]
     },
     "metadata": {
      "needs_background": "light"
     },
     "output_type": "display_data"
    }
   ],
   "source": [
    "# summarize history for loss\n",
    "plt.plot(history.history['loss'])\n",
    "plt.plot(history.history['val_loss'])\n",
    "plt.title('model loss')\n",
    "plt.ylabel('loss')\n",
    "plt.xlabel('epoch')\n",
    "plt.legend(['train', 'test'], loc='upper left')\n",
    "plt.show()"
   ]
  },
  {
   "cell_type": "code",
   "execution_count": null,
   "metadata": {},
   "outputs": [],
   "source": []
  }
 ],
 "metadata": {
  "kernelspec": {
   "display_name": "Python 3",
   "language": "python",
   "name": "python3"
  },
  "language_info": {
   "codemirror_mode": {
    "name": "ipython",
    "version": 3
   },
   "file_extension": ".py",
   "mimetype": "text/x-python",
   "name": "python",
   "nbconvert_exporter": "python",
   "pygments_lexer": "ipython3",
   "version": "3.7.3"
  }
 },
 "nbformat": 4,
 "nbformat_minor": 2
}
